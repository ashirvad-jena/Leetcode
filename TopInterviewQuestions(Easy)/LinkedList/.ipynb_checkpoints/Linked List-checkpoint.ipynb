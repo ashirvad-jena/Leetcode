{
 "cells": [
  {
   "cell_type": "markdown",
   "metadata": {},
   "source": [
    "# Delete Node in a Linked List"
   ]
  },
  {
   "cell_type": "markdown",
   "metadata": {},
   "source": [
    "Write a function to delete a node (except the tail) in a singly linked list, given only access to that node.\n",
    "\n",
    "Given linked list -- head = [4,5,1,9], which looks like following:\n",
    "\n",
    "<img src=\"237_example.png\"/>\n",
    "\n",
    "#### Example 1:\n",
    "```\n",
    "Input: head = [4,5,1,9], node = 5\n",
    "Output: [4,1,9]\n",
    "Explanation: You are given the second node with value 5, the linked list should become 4 -> 1 -> 9 after calling your function.\n",
    "```\n",
    "\n",
    "#### Example 2:\n",
    "\n",
    "```\n",
    "Input: head = [4,5,1,9], node = 1\n",
    "Output: [4,5,9]\n",
    "Explanation: You are given the third node with value 1, the linked list should become 4 -> 5 -> 9 after calling your function.\n",
    "```"
   ]
  },
  {
   "cell_type": "code",
   "execution_count": 4,
   "metadata": {},
   "outputs": [
    {
     "name": "stdout",
     "output_type": "stream",
     "text": [
      "1\n",
      "9\n"
     ]
    }
   ],
   "source": [
    "# Definition for singly-linked list.\n",
    "class ListNode(object):\n",
    "    def __init__(self, x):\n",
    "        self.val = x\n",
    "        self.next = None\n",
    "\n",
    "class Solution(object):\n",
    "    def deleteNode(self, node):\n",
    "        \"\"\"\n",
    "        :type node: ListNode\n",
    "        :rtype: void Do not return anything, modify node in-place instead.\n",
    "        \"\"\"\n",
    "        node.val = node.next.val\n",
    "        node.next = node.next.next\n",
    "        \n",
    "        temp = node\n",
    "        while temp.next != None:\n",
    "            print(temp.val)\n",
    "            temp = temp.next\n",
    "            print(temp.val)\n",
    "\n",
    "head = ListNode(4)\n",
    "first = ListNode(5)\n",
    "second = ListNode(1)\n",
    "third = ListNode(9)\n",
    "head.next = first\n",
    "first.next = second\n",
    "second.next = third\n",
    "sol = Solution()\n",
    "sol.deleteNode(first)\n",
    "        "
   ]
  },
  {
   "cell_type": "markdown",
   "metadata": {},
   "source": [
    "# Remove Nth Node From End of List"
   ]
  },
  {
   "cell_type": "markdown",
   "metadata": {},
   "source": [
    "Given a linked list, remove the n-th node from the end of list and return its head.\n",
    "\n",
    "#### Example:\n",
    "```\n",
    "Given linked list: 1->2->3->4->5, and n = 2.\n",
    "\n",
    "After removing the second node from the end, the linked list becomes 1->2->3->5.\n",
    "```\n",
    "#### Note:\n",
    "\n",
    "Given n will always be valid.\n",
    "\n",
    "#### Follow up:\n",
    "\n",
    "Could you do this in one pass?"
   ]
  },
  {
   "cell_type": "code",
   "execution_count": 33,
   "metadata": {},
   "outputs": [
    {
     "name": "stdout",
     "output_type": "stream",
     "text": [
      "1\n",
      "3\n",
      "4\n"
     ]
    }
   ],
   "source": [
    "# Definition for singly-linked list.\n",
    "class ListNode(object):\n",
    "    def __init__(self, x):\n",
    "        self.val = x\n",
    "        self.next = None\n",
    "\n",
    "class Solution(object):\n",
    "    def removeNthFromEnd(self, head, n):\n",
    "        \"\"\"\n",
    "        :type head: ListNode\n",
    "        :type n: int\n",
    "        :rtype: ListNode\n",
    "        \"\"\"\n",
    "        pointer1 = head\n",
    "        pointer2 = None\n",
    "        counter = 0\n",
    "        while pointer1 != None:\n",
    "            if counter >= n:\n",
    "                if pointer2 == None:\n",
    "                    pointer2 = head\n",
    "                else:\n",
    "                    pointer2 = pointer2.next\n",
    "                    \n",
    "            counter += 1\n",
    "            pointer1 = pointer1.next\n",
    "        \n",
    "        if counter == n:\n",
    "            head = head.next\n",
    "        elif counter > n:\n",
    "            pointer2.next = pointer2.next.next\n",
    "            \n",
    "        return head\n",
    "        \n",
    "head = ListNode(1)\n",
    "first = ListNode(2)\n",
    "second = ListNode(3)\n",
    "third = ListNode(4)\n",
    "fourth = ListNode(5)\n",
    "head.next = first\n",
    "first.next = second\n",
    "second.next = third\n",
    "third.next = fourth\n",
    "sol = Solution()\n",
    "sol.removeNthFromEnd(head, 2)"
   ]
  }
 ],
 "metadata": {
  "kernelspec": {
   "display_name": "Python 3",
   "language": "python",
   "name": "python3"
  },
  "language_info": {
   "codemirror_mode": {
    "name": "ipython",
    "version": 3
   },
   "file_extension": ".py",
   "mimetype": "text/x-python",
   "name": "python",
   "nbconvert_exporter": "python",
   "pygments_lexer": "ipython3",
   "version": "3.7.4"
  }
 },
 "nbformat": 4,
 "nbformat_minor": 2
}
