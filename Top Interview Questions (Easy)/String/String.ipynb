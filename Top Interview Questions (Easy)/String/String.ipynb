{
 "cells": [
  {
   "cell_type": "markdown",
   "metadata": {},
   "source": [
    "## Reverse String"
   ]
  },
  {
   "cell_type": "markdown",
   "metadata": {},
   "source": [
    "https://leetcode.com/explore/interview/card/top-interview-questions-easy/127/strings/879/\n",
    " \n",
    " Write a function that reverses a string. The input string is given as an array of characters char[].\n",
    " Do not allocate extra space for another array, you must do this by modifying the input array in-place with O(1) extra memory.\n",
    " \n",
    " You may assume all the characters consist of printable ascii characters.\n",
    " \n",
    " Example 1:\n",
    " Input: [\"h\",\"e\",\"l\",\"l\",\"o\"]\n",
    " Output: [\"o\",\"l\",\"l\",\"e\",\"h\"]\n",
    " \n",
    "Example 2:\n",
    "Input: [\"H\",\"a\",\"n\",\"n\",\"a\",\"h\"] \n",
    "Output: [\"h\",\"a\",\"n\",\"n\",\"a\",\"H\"]"
   ]
  },
  {
   "cell_type": "markdown",
   "metadata": {},
   "source": [
    "#### Solution 1"
   ]
  },
  {
   "cell_type": "code",
   "execution_count": 103,
   "metadata": {
    "scrolled": true
   },
   "outputs": [
    {
     "name": "stdout",
     "output_type": "stream",
     "text": [
      "['h', 'a', 'n', 'n', 'a', 'H']\n"
     ]
    }
   ],
   "source": [
    "class Solution:\n",
    "    def reverseString(self, s):\n",
    "        count = len(s)\n",
    "        for index in range(0, count//2):\n",
    "            temp = s[index]\n",
    "            s[index] = s[count - index - 1]\n",
    "            s[count -1 - index] = temp\n",
    "        print(s)\n",
    "        \n",
    "sol = Solution()\n",
    "sol.reverseString([\"H\",\"a\",\"n\",\"n\",\"a\",\"h\"])\n",
    "        "
   ]
  },
  {
   "cell_type": "markdown",
   "metadata": {},
   "source": [
    "#### Solution 2"
   ]
  },
  {
   "cell_type": "code",
   "execution_count": 26,
   "metadata": {},
   "outputs": [
    {
     "name": "stdout",
     "output_type": "stream",
     "text": [
      "['h', 'a', 'n', 'n', 'a', 'H']\n"
     ]
    }
   ],
   "source": [
    "class Solution:\n",
    "    def reverseString(self, s):\n",
    "        s = s[::-1]\n",
    "        print(s)\n",
    "        \n",
    "sol = Solution()\n",
    "sol.reverseString([\"H\",\"a\",\"n\",\"n\",\"a\",\"h\"])\n",
    "        "
   ]
  },
  {
   "cell_type": "markdown",
   "metadata": {},
   "source": [
    "## Reverse Integer"
   ]
  },
  {
   "cell_type": "markdown",
   "metadata": {},
   "source": [
    "\n",
    " https://leetcode.com/explore/interview/card/top-interview-questions-easy/127/strings/880/\n",
    " \n",
    " Given a 32-bit signed integer, reverse digits of an integer.\n",
    " \n",
    " Example 1:\n",
    " Input: 123\n",
    " Output: 321\n",
    " \n",
    " Example 2:\n",
    " Input: -123\n",
    " Output: -321\n",
    " \n",
    " Example 3:\n",
    " Input: 120\n",
    " Output: 21\n",
    " Note:\n",
    " Assume we are dealing with an environment which could only store integers within the 32-bit signed integer range: [−231,  231 − 1]. For the purpose of this problem, assume that your function returns 0 when the reversed integer overflows.\n"
   ]
  },
  {
   "cell_type": "markdown",
   "metadata": {},
   "source": [
    "#### Solution 1"
   ]
  },
  {
   "cell_type": "code",
   "execution_count": 53,
   "metadata": {},
   "outputs": [
    {
     "name": "stdout",
     "output_type": "stream",
     "text": [
      "321\n",
      "-321\n",
      "0\n"
     ]
    }
   ],
   "source": [
    "class Solution(object):\n",
    "    def reverse(self, x):\n",
    "        if (x == 0):\n",
    "            return 0\n",
    "        MIN_INT, MAX_INT = -2**31, 2**31 - 1\n",
    "        reverseInt = 0\n",
    "        multiplier = 1\n",
    "        if (x < 0):\n",
    "            multiplier = -1\n",
    "        integer = x * multiplier\n",
    "        while (integer > 0):\n",
    "            reverseInt = reverseInt * 10 + integer % 10\n",
    "            integer = integer // 10\n",
    "        reverseInt = reverseInt * multiplier\n",
    "        if (reverseInt <= MIN_INT or reverseInt >= MAX_INT):\n",
    "            return 0\n",
    "        return reverseInt\n",
    "        \n",
    "sol = Solution()\n",
    "print(sol.reverse(123))\n",
    "print(sol.reverse(-123))\n",
    "print(sol.reverse(1563847412))"
   ]
  },
  {
   "cell_type": "markdown",
   "metadata": {},
   "source": [
    "## First unique character in a string"
   ]
  },
  {
   "cell_type": "markdown",
   "metadata": {},
   "source": [
    " https://leetcode.com/explore/interview/card/top-interview-questions-easy/127/strings/881/\n",
    " \n",
    " Given a string, find the first non-repeating character in it and return it's index. If it doesn't exist, return -1.\n",
    " \n",
    " Examples:\n",
    "\n",
    " s = \"leetcode\"\n",
    " return 0.\n",
    " \n",
    " s = \"loveleetcode\",\n",
    " return 2.\n",
    " \n",
    " Note: You may assume the string contain only lowercase letters."
   ]
  },
  {
   "cell_type": "markdown",
   "metadata": {},
   "source": [
    "#### Solution 1"
   ]
  },
  {
   "cell_type": "code",
   "execution_count": 57,
   "metadata": {},
   "outputs": [
    {
     "name": "stdout",
     "output_type": "stream",
     "text": [
      "61\n",
      "0\n",
      "2\n"
     ]
    }
   ],
   "source": [
    "class Solution(object):\n",
    "    def firstUniqChar(self, s):\n",
    "        ans = -1\n",
    "        dict = {}\n",
    "        for char in s:\n",
    "            if char in dict:\n",
    "                dict[char] = dict[char] + 1\n",
    "            else:\n",
    "                dict[char] = 1\n",
    "            if len(dict) == 27:\n",
    "                return ans\n",
    "        counter = 0\n",
    "        for char in s:\n",
    "            if dict[char] == 1:\n",
    "                ans = counter\n",
    "                break\n",
    "            counter += 1\n",
    "        return ans\n",
    "    \n",
    "sol = Solution()\n",
    "print(sol.firstUniqChar(\"itwqbtcdprfsuprkrjkausiterybzncbmdvkgljxuekizvaivszowqtmrttiihervpncztuoljftlxybpgwnjb\"))\n",
    "print(sol.firstUniqChar(\"leetcode\"))\n",
    "print(sol.firstUniqChar(\"loveleetcode\"))"
   ]
  },
  {
   "cell_type": "code",
   "execution_count": 60,
   "metadata": {},
   "outputs": [
    {
     "name": "stdout",
     "output_type": "stream",
     "text": [
      "2\n",
      "61\n",
      "0\n"
     ]
    }
   ],
   "source": [
    "import collections\n",
    "class Solution:\n",
    "    def firstUniqChar(self, s: str) -> int:\n",
    "        \"\"\"\n",
    "        :type s: str\n",
    "        :rtype: int\n",
    "        \"\"\"\n",
    "        # build hash map : character and how often it appears\n",
    "        count = collections.Counter(s)\n",
    "        \n",
    "        # find the index\n",
    "        for idx, ch in enumerate(s):\n",
    "            if count[ch] == 1:\n",
    "                return idx     \n",
    "        return -1\n",
    "\n",
    "sol = Solution()\n",
    "print(sol.firstUniqChar(\"loveleetcode\"))\n",
    "print(sol.firstUniqChar(\"itwqbtcdprfsuprkrjkausiterybzncbmdvkgljxuekizvaivszowqtmrttiihervpncztuoljftlxybpgwnjb\"))\n",
    "print(sol.firstUniqChar(\"leetcode\"))"
   ]
  },
  {
   "cell_type": "markdown",
   "metadata": {},
   "source": [
    "## Valid Anagram"
   ]
  },
  {
   "cell_type": "markdown",
   "metadata": {},
   "source": [
    "Given two strings s and t , write a function to determine if t is an anagram of s.\n",
    "\n",
    "Example 1:\n",
    "\n",
    "Input: s = \"anagram\", t = \"nagaram\"\n",
    "\n",
    "Output: true\n",
    "\n",
    "\n",
    "Example 2:\n",
    "\n",
    "Input: s = \"rat\", t = \"car\"\n",
    "\n",
    "Output: false\n",
    "\n",
    "Note: You may assume the string contains only lowercase alphabets.\n",
    "\n",
    "Follow up: What if the inputs contain unicode characters? How would you adapt your solution to such case?"
   ]
  },
  {
   "cell_type": "markdown",
   "metadata": {},
   "source": [
    "#### Solution 1"
   ]
  },
  {
   "cell_type": "code",
   "execution_count": 70,
   "metadata": {},
   "outputs": [
    {
     "name": "stdout",
     "output_type": "stream",
     "text": [
      "False\n",
      "True\n",
      "False\n"
     ]
    }
   ],
   "source": [
    "class Solution(object):\n",
    "    def isAnagram(self, s, t):\n",
    "        if len(s) != len(t):\n",
    "            return False\n",
    "        result = True\n",
    "        dict = {}\n",
    "        for char in s:\n",
    "            if char in dict:\n",
    "                dict[char] = dict[char] + 1\n",
    "            else:\n",
    "                dict[char] = 1\n",
    "        for char in t:\n",
    "            if char in dict and dict[char] != 0:\n",
    "                dict[char] -= 1\n",
    "            else:\n",
    "                result = False\n",
    "                break\n",
    "        return result\n",
    "    \n",
    "sol = Solution()\n",
    "print(sol.isAnagram(\"rat\", \"car\"))\n",
    "print(sol.isAnagram(\"anagram\", \"nagaram\"))\n",
    "print(sol.isAnagram(\"ab\", \"a\"))\n",
    "        "
   ]
  },
  {
   "cell_type": "markdown",
   "metadata": {},
   "source": [
    "### Solution 2"
   ]
  },
  {
   "cell_type": "code",
   "execution_count": 72,
   "metadata": {},
   "outputs": [
    {
     "name": "stdout",
     "output_type": "stream",
     "text": [
      "False\n",
      "True\n",
      "False\n"
     ]
    }
   ],
   "source": [
    "class Solution(object):\n",
    "    def isAnagram(self, s, t):\n",
    "        return sorted(s) == sorted(t)\n",
    "        \n",
    "sol = Solution()\n",
    "print(sol.isAnagram(\"rat\", \"car\"))\n",
    "print(sol.isAnagram(\"anagram\", \"nagaram\"))\n",
    "print(sol.isAnagram(\"ab\", \"a\"))"
   ]
  },
  {
   "cell_type": "markdown",
   "metadata": {},
   "source": [
    "## Valid Palindrome"
   ]
  },
  {
   "cell_type": "markdown",
   "metadata": {},
   "source": [
    "https://leetcode.com/explore/featured/card/top-interview-questions-easy/127/strings/883/\n",
    " \n",
    " Given a string, determine if it is a palindrome, considering only alphanumeric characters and ignoring cases.\n",
    " Note: For the purpose of this problem, we define empty string as valid palindrome.\n",
    " \n",
    " Example 1:\n",
    " Input: \"A man, a plan, a canal: Panama\"\n",
    " Output: true\n",
    " \n",
    " Example 2:\n",
    " Input: \"race a car\"\n",
    " Output: false"
   ]
  },
  {
   "cell_type": "markdown",
   "metadata": {},
   "source": [
    "#### Solution 1"
   ]
  },
  {
   "cell_type": "code",
   "execution_count": 75,
   "metadata": {},
   "outputs": [
    {
     "name": "stdout",
     "output_type": "stream",
     "text": [
      "True\n",
      "False\n",
      "True\n"
     ]
    }
   ],
   "source": [
    "class Solution(object):\n",
    "    def isPalindrome(self, s):\n",
    "        alphaNumericString = \"\"\n",
    "        for char in s:\n",
    "            if ord(char) >= 65 and ord(char) <= 90:\n",
    "                alphaNumericString += chr(ord(char)+32)\n",
    "            if ord(char) >= 97 and ord(char) <= 122:\n",
    "                alphaNumericString += char\n",
    "            if ord(char) >= 48 and ord(char) <= 57:\n",
    "                alphaNumericString += char\n",
    "        for index in range(0, len(alphaNumericString)//2):\n",
    "            if alphaNumericString[index] != alphaNumericString[len(alphaNumericString)-1 - index]:\n",
    "                return False\n",
    "        return True\n",
    "            \n",
    "sol = Solution()\n",
    "print(sol.isPalindrome(\"A man, a plan, a canal: Panama\"))\n",
    "print(sol.isPalindrome(\"race a car\"))\n",
    "print(sol.isPalindrome(\"\"))"
   ]
  },
  {
   "cell_type": "markdown",
   "metadata": {},
   "source": [
    "#### Solution 2"
   ]
  },
  {
   "cell_type": "code",
   "execution_count": 84,
   "metadata": {},
   "outputs": [
    {
     "name": "stdout",
     "output_type": "stream",
     "text": [
      "True\n",
      "False\n",
      "True\n",
      "False\n"
     ]
    }
   ],
   "source": [
    "class Solution(object):\n",
    "    def isPalindrome(self, s):\n",
    "        length = len(s)\n",
    "        if length == 0:\n",
    "            return True\n",
    "        pointer1 = 0\n",
    "        pointer2 = length - 1\n",
    "        while pointer1 < pointer2:\n",
    "            if not s[pointer1].isalnum():\n",
    "                pointer1 +=1\n",
    "            elif not s[pointer2].isalnum():\n",
    "                pointer2 -= 1\n",
    "            elif s[pointer1].lower() == s[pointer2].lower():\n",
    "                pointer1 += 1\n",
    "                pointer2 -= 1\n",
    "            else:\n",
    "                return False\n",
    "        return True\n",
    "        \n",
    "            \n",
    "sol = Solution()\n",
    "print(sol.isPalindrome(\"A man, a plan, a canal: Panama\"))\n",
    "print(sol.isPalindrome(\"race a car\"))\n",
    "print(sol.isPalindrome(\"\"))\n",
    "print(\"+\".isalpha())"
   ]
  },
  {
   "cell_type": "markdown",
   "metadata": {},
   "source": [
    "## String to Integer (atoi)"
   ]
  },
  {
   "cell_type": "markdown",
   "metadata": {},
   "source": [
    "https://leetcode.com/explore/interview/card/top-interview-questions-easy/127/strings/884/\n",
    " \n",
    " Implement atoi which converts a string to an integer.\n",
    " \n",
    " The function first discards as many whitespace characters as necessary until the first non-whitespace character is found. Then, starting from this character, takes an optional initial plus or minus sign followed by as many numerical digits as possible, and interprets them as a numerical value.\n",
    " \n",
    " The string can contain additional characters after those that form the integral number, which are ignored and have no effect on the behavior of this function.\n",
    " \n",
    " If the first sequence of non-whitespace characters in str is not a valid integral number, or if no such sequence exists because either str is empty or it contains only whitespace characters, no conversion is performed.\n",
    " \n",
    " If no valid conversion could be performed, a zero value is returned.\n",
    " \n",
    " Note:\n",
    " \n",
    " Only the space character ' ' is considered as whitespace character.\n",
    " Assume we are dealing with an environment which could only store integers within the 32-bit signed integer range: [−231,  231 − 1]. If the numerical value is out of the range of representable values, INT_MAX (231 − 1) or INT_MIN (−231) is returned.\n",
    " \n",
    " Example 1:\n",
    " Input: \"42\"\n",
    " Output: 42\n",
    " \n",
    " Example 2:\n",
    " Input: \"   -42\"\n",
    " Output: -42\n",
    " Explanation: The first non-whitespace character is '-', which is the minus sign.\n",
    " Then take as many numerical digits as possible, which gets 42.\n",
    " \n",
    " Example 3:\n",
    " Input: \"4193 with words\"\n",
    " Output: 4193\n",
    " Explanation: Conversion stops at digit '3' as the next character is not a numerical digit.\n",
    " \n",
    " Example 4:\n",
    " Input: \"words and 987\"\n",
    " Output: 0\n",
    " Explanation: The first non-whitespace character is 'w', which is not a numerical\n",
    " digit or a +/- sign. Therefore no valid conversion could be performed.\n",
    " \n",
    " Example 5:\n",
    " Input: \"-91283472332\"\n",
    " Output: -2147483648\n",
    " Explanation: The number \"-91283472332\" is out of the range of a 32-bit signed integer.\n",
    " Thefore INT_MIN (−231) is returned."
   ]
  },
  {
   "cell_type": "markdown",
   "metadata": {},
   "source": [
    "#### Solution 1"
   ]
  },
  {
   "cell_type": "code",
   "execution_count": 101,
   "metadata": {},
   "outputs": [
    {
     "name": "stdout",
     "output_type": "stream",
     "text": [
      "42\n",
      "-42\n",
      "4193\n",
      "0\n",
      "-2147483648\n"
     ]
    }
   ],
   "source": [
    "class Solution(object):\n",
    "    def myAtoi(self, str):\n",
    "        isFirstNumFound = False\n",
    "        multiplier = 1\n",
    "        num = 0\n",
    "        MIN_INT, MAX_INT = -2**31, 2**31 - 1\n",
    "        for char in str:\n",
    "            if num == 0 and (not isFirstNumFound):\n",
    "                if char == \" \":\n",
    "                    continue\n",
    "                elif char == \"-\":\n",
    "                    multiplier = -1\n",
    "                    isFirstNumFound = True\n",
    "                elif char == \"+\":\n",
    "                    multiplier = 1\n",
    "                    isFirstNumFound = True\n",
    "                elif char.isdigit():\n",
    "                    num = multiplier * int(char)\n",
    "                    isFirstNumFound = True\n",
    "                else:\n",
    "                    return 0\n",
    "                \n",
    "            else:\n",
    "                if char.isdigit():\n",
    "                    num = num * 10 + multiplier * int(char)\n",
    "                    if num < MIN_INT:\n",
    "                        return MIN_INT\n",
    "                    if num > MAX_INT:\n",
    "                        return MAX_INT\n",
    "                    \n",
    "                else:\n",
    "                    return num\n",
    "        return num   \n",
    "                \n",
    "sol = Solution()\n",
    "print(sol.myAtoi(\"042\"))\n",
    "print(sol.myAtoi(\"   -42\"))\n",
    "print(sol.myAtoi(\"4193 with words\"))\n",
    "print(sol.myAtoi(\"words and 987\"))\n",
    "print(sol.myAtoi(\"-91283472332\"))     "
   ]
  },
  {
   "cell_type": "markdown",
   "metadata": {},
   "source": [
    "#### Solution 2"
   ]
  },
  {
   "cell_type": "code",
   "execution_count": 102,
   "metadata": {},
   "outputs": [
    {
     "name": "stdout",
     "output_type": "stream",
     "text": [
      "42\n",
      "-42\n",
      "4193\n",
      "0\n",
      "-2147483648\n"
     ]
    }
   ],
   "source": [
    "import string\n",
    "class Solution:\n",
    "    def myAtoi(self, str_: str) -> int:\n",
    "        s = str_.strip()\n",
    "        \n",
    "        if len(s)<1 or s[0] not in string.digits+'-'+'+':\n",
    "            return 0\n",
    "        \n",
    "        result = s[0]\n",
    "        for c in s[1:]:\n",
    "            if c not in string.digits:\n",
    "                break\n",
    "            \n",
    "            result += c            \n",
    "        \n",
    "        if len(result) == 1 and result not in string.digits: return 0\n",
    "        \n",
    "        if int(result) >= -2**31 and int(result) <= 2**31-1:\n",
    "            return int(result)\n",
    "        \n",
    "        return -2**31 if int(result)<0 else 2**31-1\n",
    "    \n",
    "sol = Solution()\n",
    "print(sol.myAtoi(\"042\"))\n",
    "print(sol.myAtoi(\"   -42\"))\n",
    "print(sol.myAtoi(\"4193 with words\"))\n",
    "print(sol.myAtoi(\"words and 987\"))\n",
    "print(sol.myAtoi(\"-91283472332\")) "
   ]
  },
  {
   "cell_type": "markdown",
   "metadata": {},
   "source": [
    "# implement strStr()"
   ]
  },
  {
   "cell_type": "markdown",
   "metadata": {},
   "source": [
    "Implement strStr().\n",
    "\n",
    "Return the index of the first occurrence of needle in haystack, or -1 if needle is not part of haystack.\n",
    "\n",
    "Example 1:\n",
    "\n",
    "Input: haystack = \"hello\", needle = \"ll\"\n",
    "Output: 2\n",
    "Example 2:\n",
    "\n",
    "Input: haystack = \"aaaaa\", needle = \"bba\"\n",
    "Output: -1\n",
    "Clarification:\n",
    "\n",
    "What should we return when needle is an empty string? This is a great question to ask during an interview.\n",
    "\n",
    "For the purpose of this problem, we will return 0 when needle is an empty string. This is consistent to C's strstr() and Java's indexOf().\n"
   ]
  },
  {
   "cell_type": "code",
   "execution_count": 166,
   "metadata": {},
   "outputs": [
    {
     "name": "stdout",
     "output_type": "stream",
     "text": [
      "3\n",
      "-1\n",
      "-1\n",
      "0\n"
     ]
    }
   ],
   "source": [
    "class Solution:\n",
    "    def strStr(self, haystack: str, needle: str) -> int:\n",
    "        if len(needle) == 0:\n",
    "            return 0\n",
    "        needleIndex = 0\n",
    "        haystackIndex = 0\n",
    "        checkCounter = -1\n",
    "        while haystackIndex < len(haystack) and needleIndex < len(needle):\n",
    "            if checkCounter == -1 and haystackIndex > len(haystack) - len(needle):\n",
    "                return - 1 \n",
    "            if haystack[haystackIndex] == needle[needleIndex]:\n",
    "                checkCounter += 1\n",
    "                needleIndex += 1\n",
    "                haystackIndex += 1\n",
    "                \n",
    "            else:\n",
    "                if checkCounter != -1:\n",
    "                    haystackIndex -= checkCounter\n",
    "                    needleIndex = 0\n",
    "                    checkCounter = -1\n",
    "                else:\n",
    "                    haystackIndex += 1\n",
    "        \n",
    "        if checkCounter != -1 :\n",
    "            return haystackIndex - checkCounter - 1\n",
    "        else:\n",
    "            return -1\n",
    "                \n",
    "            \n",
    "        \n",
    "sol = Solution()\n",
    "print(sol.strStr(\"hello\", \"lo\"))\n",
    "print(sol.strStr(\"aaaaa\", \"bba\"))\n",
    "print(sol.strStr(\"mississippi\", \"issipi\"))\n",
    "print(sol.strStr(\"aaa\", \"a\"))"
   ]
  },
  {
   "cell_type": "markdown",
   "metadata": {},
   "source": [
    "## Count and say"
   ]
  },
  {
   "cell_type": "markdown",
   "metadata": {},
   "source": [
    "The count-and-say sequence is the sequence of integers with the first five terms as following:\n",
    "\n",
    "1.     1\n",
    "2.     11\n",
    "3.     21\n",
    "4.     1211\n",
    "5.     111221\n",
    "1 is read off as \"one 1\" or 11.\n",
    "11 is read off as \"two 1s\" or 21.\n",
    "21 is read off as \"one 2, then one 1\" or 1211.\n",
    "\n",
    "Given an integer n where 1 ≤ n ≤ 30, generate the nth term of the count-and-say sequence.  \n",
    "Note: Each term of the sequence of integers will be represented as a string.\n",
    "\n",
    "Example 1:  \n",
    "Input: 1  \n",
    "Output: \"1\"\n",
    "\n",
    "Example 2:  \n",
    "Input: 4  \n",
    "Output: \"1211\""
   ]
  },
  {
   "cell_type": "markdown",
   "metadata": {},
   "source": [
    "#### Solution 1"
   ]
  },
  {
   "cell_type": "code",
   "execution_count": 172,
   "metadata": {},
   "outputs": [
    {
     "name": "stdout",
     "output_type": "stream",
     "text": [
      "1\n",
      "11\n",
      "21\n",
      "111221\n"
     ]
    }
   ],
   "source": [
    "class Solution:\n",
    "    def countAndSay(self, n: int) -> str:\n",
    "        num = \"1\"\n",
    "        for index in range(1, n):\n",
    "            newNum = \"\"\n",
    "            pairArray = []\n",
    "            for char in num:\n",
    "                if not pairArray:\n",
    "                    pairArray.append(int(char))\n",
    "                    pairArray.append(1)\n",
    "                    \n",
    "                else:\n",
    "                    if pairArray[0] == int(char):\n",
    "                        pairArray[1] += 1\n",
    "                        \n",
    "                    else:\n",
    "                        newNum += str(pairArray[1])\n",
    "                        newNum += str(pairArray[0])\n",
    "                        pairArray[0] = int(char)\n",
    "                        pairArray[1] = 1\n",
    "\n",
    "            newNum += str(pairArray[1])\n",
    "            newNum += str(pairArray[0])\n",
    "            pairArray.clear()\n",
    "            num = newNum\n",
    "        \n",
    "        return num\n",
    "        \n",
    "        \n",
    "sol = Solution()\n",
    "print(sol.countAndSay(1))\n",
    "print(sol.countAndSay(2))\n",
    "print(sol.countAndSay(3))\n",
    "print(sol.countAndSay(5))"
   ]
  },
  {
   "cell_type": "markdown",
   "metadata": {},
   "source": [
    "#### Solution 2"
   ]
  },
  {
   "cell_type": "code",
   "execution_count": 173,
   "metadata": {},
   "outputs": [
    {
     "name": "stdout",
     "output_type": "stream",
     "text": [
      "1\n",
      "11\n",
      "21\n",
      "111221\n"
     ]
    }
   ],
   "source": [
    "class Solution(object):\n",
    "    def countAndSay(self, n):\n",
    "        if n <= 1:\n",
    "            return \"1\"\n",
    "        prevCountAndSay = self.countAndSay(n - 1)\n",
    "        last = None\n",
    "        occurrence = None\n",
    "        output = \"\"\n",
    "        for i in prevCountAndSay:\n",
    "            if last is not None:\n",
    "                if i == last:\n",
    "                    occurrence += 1\n",
    "                else:\n",
    "                    output += str(occurrence) + last\n",
    "                    occurrence = 1\n",
    "            else:\n",
    "                occurrence = 1\n",
    "            last = i\n",
    "        return output if occurrence is None else output + str(occurrence) + last\n",
    "    \n",
    "sol = Solution()\n",
    "print(sol.countAndSay(1))\n",
    "print(sol.countAndSay(2))\n",
    "print(sol.countAndSay(3))\n",
    "print(sol.countAndSay(5))"
   ]
  },
  {
   "cell_type": "markdown",
   "metadata": {},
   "source": [
    "## Longest Common Prefix"
   ]
  },
  {
   "cell_type": "markdown",
   "metadata": {},
   "source": [
    "Write a function to find the longest common prefix string amongst an array of strings.\n",
    "\n",
    "If there is no common prefix, return an empty string \"\".\n",
    "\n",
    "Example 1:  \n",
    "Input: [\"flower\", \"flow\", \"flight\"]  \n",
    "Output: \"fl\"\n",
    "\n",
    "Example 2:  \n",
    "Input: [\"dog\", \"racecar\", \"car\"]  \n",
    "Output: \"\"\n",
    "\n",
    "Explanation: There is no common prefix among the input strings.  \n",
    "Note:All given inputs are in lowercase letters a-z."
   ]
  },
  {
   "cell_type": "code",
   "execution_count": 200,
   "metadata": {},
   "outputs": [
    {
     "name": "stdout",
     "output_type": "stream",
     "text": [
      "f\n",
      "f\n",
      "f\n",
      "common =  f\n",
      "l\n",
      "l\n",
      "l\n",
      "common =  l\n",
      "o\n",
      "o\n",
      "i\n",
      "fl\n"
     ]
    }
   ],
   "source": [
    "class Solution:\n",
    "    def longestCommonPrefix(self, strs):\n",
    "        sortedStrs = []\n",
    "        commonPrefix = \"\"\n",
    "        limit = float(\"inf\")\n",
    "        for string in strs:\n",
    "            if len(string) <= limit:\n",
    "                limit = len(string)\n",
    "                \n",
    "        if limit == float(\"inf\"):\n",
    "            return commonPrefix\n",
    "        \n",
    "        for index in range(limit):\n",
    "            commonChar = strs[0][index]\n",
    "            for string in strs:\n",
    "                print(string[index])\n",
    "                if string[index] != commonChar:\n",
    "                    commonChar = \"\"\n",
    "                    return commonPrefix\n",
    "            print(\"common = \", commonChar)\n",
    "            if commonChar != \"\":\n",
    "                commonPrefix += commonChar\n",
    "#             ll = [string[index] for string in strs]\n",
    "#             if len(set(ll)) == 1:\n",
    "#                 commonPrefix += ll[0]\n",
    "#             else:\n",
    "#                 break\n",
    "        return commonPrefix\n",
    "        \n",
    "sol = Solution()\n",
    "print(sol.longestCommonPrefix([\"flower\", \"flow\", \"flight\"]))\n",
    "# print(sol.longestCommonPrefix([\"dog\", \"racecar\", \"car\"]))\n",
    "# print(sol.longestCommonPrefix([\"aca\", \"cba\"]))"
   ]
  },
  {
   "cell_type": "code",
   "execution_count": null,
   "metadata": {},
   "outputs": [],
   "source": []
  }
 ],
 "metadata": {
  "kernelspec": {
   "display_name": "Python 3",
   "language": "python",
   "name": "python3"
  },
  "language_info": {
   "codemirror_mode": {
    "name": "ipython",
    "version": 3
   },
   "file_extension": ".py",
   "mimetype": "text/x-python",
   "name": "python",
   "nbconvert_exporter": "python",
   "pygments_lexer": "ipython3",
   "version": "3.7.4"
  }
 },
 "nbformat": 4,
 "nbformat_minor": 2
}
