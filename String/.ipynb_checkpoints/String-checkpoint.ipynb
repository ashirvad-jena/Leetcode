{
 "cells": [
  {
   "cell_type": "markdown",
   "metadata": {},
   "source": [
    "## Reverse String"
   ]
  },
  {
   "cell_type": "markdown",
   "metadata": {},
   "source": [
    "https://leetcode.com/explore/interview/card/top-interview-questions-easy/127/strings/879/\n",
    " \n",
    " Write a function that reverses a string. The input string is given as an array of characters char[].\n",
    " Do not allocate extra space for another array, you must do this by modifying the input array in-place with O(1) extra memory.\n",
    " \n",
    " You may assume all the characters consist of printable ascii characters.\n",
    " \n",
    " Example 1:\n",
    " Input: [\"h\",\"e\",\"l\",\"l\",\"o\"]\n",
    " Output: [\"o\",\"l\",\"l\",\"e\",\"h\"]\n",
    " \n",
    "Example 2:\n",
    "Input: [\"H\",\"a\",\"n\",\"n\",\"a\",\"h\"] \n",
    "Output: [\"h\",\"a\",\"n\",\"n\",\"a\",\"H\"]"
   ]
  },
  {
   "cell_type": "markdown",
   "metadata": {},
   "source": [
    "#### Solution 1"
   ]
  },
  {
   "cell_type": "code",
   "execution_count": 24,
   "metadata": {
    "scrolled": true
   },
   "outputs": [
    {
     "name": "stdout",
     "output_type": "stream",
     "text": [
      "['h', 'a', 'n', 'n', 'a', 'H']\n",
      "None\n"
     ]
    }
   ],
   "source": [
    "class Solution:\n",
    "    def reverseString(self, s):\n",
    "        count = len(s)\n",
    "        for index in range(0, count//2):\n",
    "            temp = s[index]\n",
    "            s[index] = s[count - index - 1]\n",
    "            s[count -1 - index] = temp\n",
    "        print(s)\n",
    "        \n",
    "sol = Solution()\n",
    "sol.reverseString([\"H\",\"a\",\"n\",\"n\",\"a\",\"h\"])\n",
    "        "
   ]
  },
  {
   "cell_type": "markdown",
   "metadata": {},
   "source": [
    "#### Solution 2"
   ]
  },
  {
   "cell_type": "code",
   "execution_count": 26,
   "metadata": {},
   "outputs": [
    {
     "name": "stdout",
     "output_type": "stream",
     "text": [
      "['h', 'a', 'n', 'n', 'a', 'H']\n"
     ]
    }
   ],
   "source": [
    "class Solution:\n",
    "    def reverseString(self, s):\n",
    "        s = s[::-1]\n",
    "        print(s)\n",
    "        \n",
    "sol = Solution()\n",
    "sol.reverseString([\"H\",\"a\",\"n\",\"n\",\"a\",\"h\"])\n",
    "        "
   ]
  },
  {
   "cell_type": "markdown",
   "metadata": {},
   "source": [
    "## Reverse Integer"
   ]
  },
  {
   "cell_type": "markdown",
   "metadata": {},
   "source": [
    "\n",
    " https://leetcode.com/explore/interview/card/top-interview-questions-easy/127/strings/880/\n",
    " \n",
    " Given a 32-bit signed integer, reverse digits of an integer.\n",
    " \n",
    " Example 1:\n",
    " Input: 123\n",
    " Output: 321\n",
    " \n",
    " Example 2:\n",
    " Input: -123\n",
    " Output: -321\n",
    " \n",
    " Example 3:\n",
    " Input: 120\n",
    " Output: 21\n",
    " Note:\n",
    " Assume we are dealing with an environment which could only store integers within the 32-bit signed integer range: [−231,  231 − 1]. For the purpose of this problem, assume that your function returns 0 when the reversed integer overflows.\n"
   ]
  },
  {
   "cell_type": "markdown",
   "metadata": {},
   "source": [
    "#### Solution 1"
   ]
  },
  {
   "cell_type": "code",
   "execution_count": 53,
   "metadata": {},
   "outputs": [
    {
     "name": "stdout",
     "output_type": "stream",
     "text": [
      "321\n",
      "-321\n",
      "0\n"
     ]
    }
   ],
   "source": [
    "class Solution(object):\n",
    "    def reverse(self, x):\n",
    "        if (x == 0):\n",
    "            return 0\n",
    "        MIN_INT, MAX_INT = -2**31, 2**31 - 1\n",
    "        reverseInt = 0\n",
    "        multiplier = 1\n",
    "        if (x < 0):\n",
    "            multiplier = -1\n",
    "        integer = x * multiplier\n",
    "        while (integer > 0):\n",
    "            reverseInt = reverseInt * 10 + integer % 10\n",
    "            integer = integer // 10\n",
    "        reverseInt = reverseInt * multiplier\n",
    "        if (reverseInt <= MIN_INT or reverseInt >= MAX_INT):\n",
    "            return 0\n",
    "        return reverseInt\n",
    "        \n",
    "sol = Solution()\n",
    "print(sol.reverse(123))\n",
    "print(sol.reverse(-123))\n",
    "print(sol.reverse(1563847412))"
   ]
  },
  {
   "cell_type": "markdown",
   "metadata": {},
   "source": [
    "## First unique character in a string"
   ]
  },
  {
   "cell_type": "markdown",
   "metadata": {},
   "source": [
    " https://leetcode.com/explore/interview/card/top-interview-questions-easy/127/strings/881/\n",
    " \n",
    " Given a string, find the first non-repeating character in it and return it's index. If it doesn't exist, return -1.\n",
    " \n",
    " Examples:\n",
    "\n",
    " s = \"leetcode\"\n",
    " return 0.\n",
    " \n",
    " s = \"loveleetcode\",\n",
    " return 2.\n",
    " \n",
    " Note: You may assume the string contain only lowercase letters."
   ]
  },
  {
   "cell_type": "markdown",
   "metadata": {},
   "source": [
    "#### Solution 1"
   ]
  },
  {
   "cell_type": "code",
   "execution_count": 57,
   "metadata": {},
   "outputs": [
    {
     "name": "stdout",
     "output_type": "stream",
     "text": [
      "61\n",
      "0\n",
      "2\n"
     ]
    }
   ],
   "source": [
    "class Solution(object):\n",
    "    def firstUniqChar(self, s):\n",
    "        ans = -1\n",
    "        dict = {}\n",
    "        for char in s:\n",
    "            if char in dict:\n",
    "                dict[char] = dict[char] + 1\n",
    "            else:\n",
    "                dict[char] = 1\n",
    "            if len(dict) == 27:\n",
    "                return ans\n",
    "        counter = 0\n",
    "        for char in s:\n",
    "            if dict[char] == 1:\n",
    "                ans = counter\n",
    "                break\n",
    "            counter += 1\n",
    "        return ans\n",
    "    \n",
    "sol = Solution()\n",
    "print(sol.firstUniqChar(\"itwqbtcdprfsuprkrjkausiterybzncbmdvkgljxuekizvaivszowqtmrttiihervpncztuoljftlxybpgwnjb\"))\n",
    "print(sol.firstUniqChar(\"leetcode\"))\n",
    "print(sol.firstUniqChar(\"loveleetcode\"))"
   ]
  },
  {
   "cell_type": "code",
   "execution_count": 60,
   "metadata": {},
   "outputs": [
    {
     "name": "stdout",
     "output_type": "stream",
     "text": [
      "2\n",
      "61\n",
      "0\n"
     ]
    }
   ],
   "source": [
    "import collections\n",
    "class Solution:\n",
    "    def firstUniqChar(self, s: str) -> int:\n",
    "        \"\"\"\n",
    "        :type s: str\n",
    "        :rtype: int\n",
    "        \"\"\"\n",
    "        # build hash map : character and how often it appears\n",
    "        count = collections.Counter(s)\n",
    "        \n",
    "        # find the index\n",
    "        for idx, ch in enumerate(s):\n",
    "            if count[ch] == 1:\n",
    "                return idx     \n",
    "        return -1\n",
    "\n",
    "sol = Solution()\n",
    "print(sol.firstUniqChar(\"loveleetcode\"))\n",
    "print(sol.firstUniqChar(\"itwqbtcdprfsuprkrjkausiterybzncbmdvkgljxuekizvaivszowqtmrttiihervpncztuoljftlxybpgwnjb\"))\n",
    "print(sol.firstUniqChar(\"leetcode\"))"
   ]
  },
  {
   "cell_type": "markdown",
   "metadata": {},
   "source": [
    "## Valid Anagram"
   ]
  },
  {
   "cell_type": "markdown",
   "metadata": {},
   "source": [
    "Given two strings s and t , write a function to determine if t is an anagram of s.\n",
    "\n",
    "Example 1:\n",
    "\n",
    "Input: s = \"anagram\", t = \"nagaram\"\n",
    "\n",
    "Output: true\n",
    "\n",
    "\n",
    "Example 2:\n",
    "\n",
    "Input: s = \"rat\", t = \"car\"\n",
    "\n",
    "Output: false\n",
    "\n",
    "Note: You may assume the string contains only lowercase alphabets.\n",
    "\n",
    "Follow up: What if the inputs contain unicode characters? How would you adapt your solution to such case?"
   ]
  },
  {
   "cell_type": "code",
   "execution_count": 65,
   "metadata": {},
   "outputs": [
    {
     "name": "stdout",
     "output_type": "stream",
     "text": [
      "False\n",
      "True\n"
     ]
    }
   ],
   "source": [
    "class Solution(object):\n",
    "    def isAnagram(self, s, t):\n",
    "        if len(s) == 0 or len(t) == 0:\n",
    "            return False\n",
    "        result = False\n",
    "        dict = {}\n",
    "        for char in s:\n",
    "            if char in dict:\n",
    "                dict[char] = dict[char] + 1\n",
    "            else:\n",
    "                dict[char] = 1\n",
    "        for char in t:\n",
    "            if char in dict and dict[char] != 0:\n",
    "                dict[char] -= 1\n",
    "                result = True\n",
    "            else:\n",
    "                result = False\n",
    "                break\n",
    "        return result\n",
    "    \n",
    "sol = Solution()\n",
    "print(sol.isAnagram(\"rat\", \"car\"))\n",
    "print(sol.isAnagram(\"anagram\", \"nagaram\"))\n",
    "print(sol.isAnagram(\"\", \"\"))\n",
    "        "
   ]
  },
  {
   "cell_type": "code",
   "execution_count": null,
   "metadata": {},
   "outputs": [],
   "source": []
  }
 ],
 "metadata": {
  "kernelspec": {
   "display_name": "Python 3",
   "language": "python",
   "name": "python3"
  },
  "language_info": {
   "codemirror_mode": {
    "name": "ipython",
    "version": 3
   },
   "file_extension": ".py",
   "mimetype": "text/x-python",
   "name": "python",
   "nbconvert_exporter": "python",
   "pygments_lexer": "ipython3",
   "version": "3.7.4"
  }
 },
 "nbformat": 4,
 "nbformat_minor": 2
}
